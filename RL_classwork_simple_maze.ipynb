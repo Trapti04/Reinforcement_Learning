{
 "cells": [
  {
   "cell_type": "code",
   "execution_count": 197,
   "metadata": {},
   "outputs": [],
   "source": [
    "import pandas as pd"
   ]
  },
  {
   "cell_type": "code",
   "execution_count": 198,
   "metadata": {},
   "outputs": [],
   "source": [
    "import numpy as np"
   ]
  },
  {
   "cell_type": "code",
   "execution_count": 199,
   "metadata": {},
   "outputs": [],
   "source": [
    "R = pd.read_csv(\"C:\\\\Users\\\\user\\\\Documents\\\\r_matrix.csv\", header = None)"
   ]
  },
  {
   "cell_type": "code",
   "execution_count": 200,
   "metadata": {},
   "outputs": [],
   "source": [
    "R = np.matrix(R)\n"
   ]
  },
  {
   "cell_type": "code",
   "execution_count": 201,
   "metadata": {},
   "outputs": [
    {
     "data": {
      "text/plain": [
       "matrix([[ -1,  -1,  -1,   0,  -1,  -1,  -1,  -1,  -1,  -1],\n",
       "        [ -1,  -1,   0,  -1,  -1,  -1,  -1,  -1,  -1,  -1],\n",
       "        [ -1,   0,  -1,  -1,  -1,   0,  -1,  -1,  -1, 100],\n",
       "        [  0,  -1,  -1,  -1,   0,  -1,   0,  -1,  -1,  -1],\n",
       "        [ -1,  -1,  -1,   0,  -1,   0,  -1,   0,  -1,  -1],\n",
       "        [ -1,  -1,   0,  -1,   0,  -1,  -1,  -1,  -1,  -1],\n",
       "        [ -1,  -1,  -1,   0,  -1,  -1,  -1,  -1,  -1,  -1],\n",
       "        [ -1,  -1,  -1,  -1,   0,  -1,  -1,  -1,   0, 100],\n",
       "        [ -1,  -1,  -1,  -1,  -1,  -1,  -1,   0,  -1,  -1],\n",
       "        [ -1,  -1,   0,  -1,  -1,  -1,  -1,   0,  -1, 100]], dtype=int64)"
      ]
     },
     "execution_count": 201,
     "metadata": {},
     "output_type": "execute_result"
    }
   ],
   "source": [
    "R"
   ]
  },
  {
   "cell_type": "code",
   "execution_count": 202,
   "metadata": {},
   "outputs": [],
   "source": [
    "Q = np.zeros((10,10))"
   ]
  },
  {
   "cell_type": "code",
   "execution_count": 203,
   "metadata": {},
   "outputs": [
    {
     "data": {
      "text/plain": [
       "array([[0., 0., 0., 0., 0., 0., 0., 0., 0., 0.],\n",
       "       [0., 0., 0., 0., 0., 0., 0., 0., 0., 0.],\n",
       "       [0., 0., 0., 0., 0., 0., 0., 0., 0., 0.],\n",
       "       [0., 0., 0., 0., 0., 0., 0., 0., 0., 0.],\n",
       "       [0., 0., 0., 0., 0., 0., 0., 0., 0., 0.],\n",
       "       [0., 0., 0., 0., 0., 0., 0., 0., 0., 0.],\n",
       "       [0., 0., 0., 0., 0., 0., 0., 0., 0., 0.],\n",
       "       [0., 0., 0., 0., 0., 0., 0., 0., 0., 0.],\n",
       "       [0., 0., 0., 0., 0., 0., 0., 0., 0., 0.],\n",
       "       [0., 0., 0., 0., 0., 0., 0., 0., 0., 0.]])"
      ]
     },
     "execution_count": 203,
     "metadata": {},
     "output_type": "execute_result"
    }
   ],
   "source": [
    "Q"
   ]
  },
  {
   "cell_type": "code",
   "execution_count": 204,
   "metadata": {},
   "outputs": [],
   "source": [
    "gamma =0.7"
   ]
  },
  {
   "cell_type": "code",
   "execution_count": 205,
   "metadata": {},
   "outputs": [],
   "source": [
    "initial_state = 2"
   ]
  },
  {
   "cell_type": "code",
   "execution_count": 206,
   "metadata": {},
   "outputs": [],
   "source": [
    "def avl_actions(state):\n",
    "    current_state_row =R[state,]\n",
    "    av_act =np.where(current_state_row >= 0)[1]\n",
    "    return av_act\n",
    "\n"
   ]
  },
  {
   "cell_type": "code",
   "execution_count": 207,
   "metadata": {},
   "outputs": [],
   "source": [
    "available_actions = avl_actions(initial_state)"
   ]
  },
  {
   "cell_type": "code",
   "execution_count": 208,
   "metadata": {},
   "outputs": [
    {
     "data": {
      "text/plain": [
       "array([1, 5, 9], dtype=int64)"
      ]
     },
     "execution_count": 208,
     "metadata": {},
     "output_type": "execute_result"
    }
   ],
   "source": [
    "available_actions"
   ]
  },
  {
   "cell_type": "code",
   "execution_count": 209,
   "metadata": {},
   "outputs": [],
   "source": [
    "def sample_next_action(available_actions_range):\n",
    "    next_action = int(np.random.choice(available_actions_range,1))\n",
    "    return next_action\n",
    "\n",
    "#def sample_next_action(available_actions_range):\n",
    "#    next_action = int(np.random.choice(available_act,1))\n",
    "#    return next_action\n"
   ]
  },
  {
   "cell_type": "code",
   "execution_count": 210,
   "metadata": {},
   "outputs": [],
   "source": [
    "action = sample_next_action(available_actions)"
   ]
  },
  {
   "cell_type": "code",
   "execution_count": 211,
   "metadata": {},
   "outputs": [
    {
     "data": {
      "text/plain": [
       "5"
      ]
     },
     "execution_count": 211,
     "metadata": {},
     "output_type": "execute_result"
    }
   ],
   "source": [
    "action"
   ]
  },
  {
   "cell_type": "code",
   "execution_count": 212,
   "metadata": {},
   "outputs": [],
   "source": [
    "def update(current_state,action,gamma):\n",
    "    \n",
    "    max_index = np.where(Q[action,] == np.max(Q[action,]))[0]\n",
    "    \n",
    "    if max_index.shape[0] > 1:\n",
    "        max_index =int(np.random.choice(max_index,size = 1))\n",
    "    else:\n",
    "        max_index =int(max_index)\n",
    "        \n",
    "    max_value=Q[action,max_index]\n",
    "        \n",
    "    Q[current_state,action] = R[current_state,action] + gamma*max_value\n",
    "    \n",
    "    \n",
    "   "
   ]
  },
  {
   "cell_type": "code",
   "execution_count": 213,
   "metadata": {},
   "outputs": [],
   "source": [
    "update(initial_state,action,gamma)"
   ]
  },
  {
   "cell_type": "code",
   "execution_count": 214,
   "metadata": {},
   "outputs": [
    {
     "data": {
      "text/plain": [
       "array([[0., 0., 0., 0., 0., 0., 0., 0., 0., 0.],\n",
       "       [0., 0., 0., 0., 0., 0., 0., 0., 0., 0.],\n",
       "       [0., 0., 0., 0., 0., 0., 0., 0., 0., 0.],\n",
       "       [0., 0., 0., 0., 0., 0., 0., 0., 0., 0.],\n",
       "       [0., 0., 0., 0., 0., 0., 0., 0., 0., 0.],\n",
       "       [0., 0., 0., 0., 0., 0., 0., 0., 0., 0.],\n",
       "       [0., 0., 0., 0., 0., 0., 0., 0., 0., 0.],\n",
       "       [0., 0., 0., 0., 0., 0., 0., 0., 0., 0.],\n",
       "       [0., 0., 0., 0., 0., 0., 0., 0., 0., 0.],\n",
       "       [0., 0., 0., 0., 0., 0., 0., 0., 0., 0.]])"
      ]
     },
     "execution_count": 214,
     "metadata": {},
     "output_type": "execute_result"
    }
   ],
   "source": [
    "Q"
   ]
  },
  {
   "cell_type": "code",
   "execution_count": 215,
   "metadata": {},
   "outputs": [],
   "source": [
    "for i in range(15000):\n",
    "    current_state =np.random.randint(0,int(Q.shape[0]))\n",
    "    available_act =avl_actions(current_state)\n",
    "    action = sample_next_action(available_act)\n",
    "    update(current_state,action,gamma)"
   ]
  },
  {
   "cell_type": "code",
   "execution_count": 216,
   "metadata": {},
   "outputs": [
    {
     "name": "stdout",
     "output_type": "stream",
     "text": [
      "[[  0.     0.     0.    34.3    0.     0.     0.     0.     0.     0.  ]\n",
      " [  0.     0.    70.     0.     0.     0.     0.     0.     0.     0.  ]\n",
      " [  0.    49.     0.     0.     0.    49.     0.     0.     0.   100.  ]\n",
      " [ 24.01   0.     0.     0.    49.     0.    24.01   0.     0.     0.  ]\n",
      " [  0.     0.     0.    34.3    0.    49.     0.    70.     0.     0.  ]\n",
      " [  0.     0.    70.     0.    49.     0.     0.     0.     0.     0.  ]\n",
      " [  0.     0.     0.    34.3    0.     0.     0.     0.     0.     0.  ]\n",
      " [  0.     0.     0.     0.    49.     0.     0.     0.    49.   100.  ]\n",
      " [  0.     0.     0.     0.     0.     0.     0.    70.     0.     0.  ]\n",
      " [  0.     0.    70.     0.     0.     0.     0.    70.     0.   100.  ]]\n"
     ]
    }
   ],
   "source": [
    "print((Q / np.max(Q)) * 100)"
   ]
  },
  {
   "cell_type": "code",
   "execution_count": 217,
   "metadata": {},
   "outputs": [],
   "source": [
    "#goal state = 9\n",
    "#starting state =6\n",
    "#best sequence that I am expecting fro 6 = 6_> 3-> 4 -> 7-> 9"
   ]
  },
  {
   "cell_type": "code",
   "execution_count": 220,
   "metadata": {},
   "outputs": [
    {
     "name": "stdout",
     "output_type": "stream",
     "text": [
      "The chosen path for the mouse is:\n",
      "[6, 3, 4, 7, 9]\n"
     ]
    }
   ],
   "source": [
    "current_state =6\n",
    "steps = [current_state]\n",
    "\n",
    "while current_state != 9:\n",
    "    next_step_index = np.where(Q[current_state,] == np.max(Q[current_state,]))[0]\n",
    "    \n",
    "    if next_step_index.shape[0] > 1:\n",
    "        next_step_index =int(np.random.choice(next_step_index,size = 1))\n",
    "    else:\n",
    "        next_step_index =int(next_step_index)\n",
    "        \n",
    "    steps.append(next_step_index)\n",
    "    current_state =next_step_index\n",
    "        \n",
    "print(\"The chosen path for the mouse is:\")\n",
    "print(steps)\n",
    "        \n",
    "    "
   ]
  },
  {
   "cell_type": "code",
   "execution_count": null,
   "metadata": {},
   "outputs": [],
   "source": []
  }
 ],
 "metadata": {
  "kernelspec": {
   "display_name": "Python 3.7.6 64-bit ('py37': conda)",
   "language": "python",
   "name": "python37664bitpy37conda821ec779a3ea45d79a16068354f7e252"
  },
  "language_info": {
   "codemirror_mode": {
    "name": "ipython",
    "version": 3
   },
   "file_extension": ".py",
   "mimetype": "text/x-python",
   "name": "python",
   "nbconvert_exporter": "python",
   "pygments_lexer": "ipython3",
   "version": "3.7.6"
  }
 },
 "nbformat": 4,
 "nbformat_minor": 2
}
